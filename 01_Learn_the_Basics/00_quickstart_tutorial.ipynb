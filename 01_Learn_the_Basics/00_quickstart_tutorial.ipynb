{
 "cells": [
  {
   "cell_type": "code",
   "execution_count": 1,
   "metadata": {},
   "outputs": [],
   "source": [
    "%matplotlib inline"
   ]
  },
  {
   "cell_type": "markdown",
   "metadata": {},
   "source": [
    "\n",
    "[Learn the Basics](https://pytorch.org/tutorials/beginner/basics/intro.html) ||\n",
    "[**Quickstart**](https://pytorch.org/tutorials/beginner/basics/quickstart_tutorial.html) || \n",
    "[Tensors](https://pytorch.org/tutorials/beginner/basics/tensorqs_tutorial.html) || \n",
    "[Datasets & DataLoaders](https://pytorch.org/tutorials/beginner/basics/data_tutorial.html) ||\n",
    "[Transforms](https://pytorch.org/tutorials/beginner/basics/transforms_tutorial.html) ||\n",
    "[Build Model](https://pytorch.org/tutorials/beginner/basics/buildmodel_tutorial.html) ||\n",
    "[Autograd](https://pytorch.org/tutorials/beginner/basics/autogradqs_tutorial.html) ||\n",
    "[Optimization](https://pytorch.org/tutorials/beginner/basics/optimization_tutorial.html) ||\n",
    "[Save & Load Model](https://pytorch.org/tutorials/beginner/basics/saveloadrun_tutorial.html)\n",
    "\n",
    "Quickstart\n",
    "===================\n",
    "This section runs through the API for common tasks in machine learning. Refer to the links in each section to dive deeper.\n",
    "\n",
    "Working with data\n",
    "-----------------\n",
    "PyTorch has two [primitives to work with data](https://pytorch.org/docs/stable/data.html): \n",
    "``torch.utils.data.DataLoader`` and ``torch.utils.data.Dataset``.\n",
    "``Dataset`` stores the samples and their corresponding labels, and ``DataLoader`` wraps an iterable around\n",
    "the ``Dataset``.\n",
    "\n",
    "\n"
   ]
  },
  {
   "cell_type": "code",
   "execution_count": 2,
   "metadata": {},
   "outputs": [],
   "source": [
    "import torch\n",
    "from torch import nn\n",
    "from torch.utils.data import DataLoader\n",
    "from torchvision import datasets\n",
    "from torchvision.transforms import ToTensor, Lambda, Compose\n",
    "import matplotlib.pyplot as plt"
   ]
  },
  {
   "cell_type": "markdown",
   "metadata": {},
   "source": [
    "PyTorch offers domain-specific libraries such as [TorchText](https://pytorch.org/text/stable/index.html), \n",
    "[TorchVision](https://pytorch.org/vision/stable/index.html), and [TorchAudio](https://pytorch.org/audio/stable/index.html), \n",
    "all of which include datasets. For this tutorial, we  will be using a TorchVision dataset.\n",
    "\n",
    "The ``torchvision.datasets`` module contains ``Dataset`` objects for many real-world vision data like \n",
    "CIFAR, COCO ([full list here](https://pytorch.org/docs/stable/torchvision/datasets.html)). In this tutorial, we\n",
    "use the FashionMNIST dataset. Every TorchVision ``Dataset`` includes two arguments: ``transform`` and\n",
    "``target_transform`` to modify the samples and labels respectively.\n",
    "\n"
   ]
  },
  {
   "cell_type": "code",
   "execution_count": 3,
   "metadata": {},
   "outputs": [],
   "source": [
    "# Download training data from open datasets.\n",
    "training_data = datasets.FashionMNIST(\n",
    "    root=\"data\",\n",
    "    train=True,\n",
    "    download=True,\n",
    "    transform=ToTensor(),\n",
    ")\n",
    "\n",
    "# Download test data from open datasets.\n",
    "test_data = datasets.FashionMNIST(\n",
    "    root=\"data\",\n",
    "    train=False,\n",
    "    download=True,\n",
    "    transform=ToTensor(),\n",
    ")"
   ]
  },
  {
   "cell_type": "markdown",
   "metadata": {},
   "source": [
    "We pass the ``Dataset`` as an argument to ``DataLoader``. This wraps an iterable over our dataset, and supports\n",
    "automatic batching, sampling, shuffling and multiprocess data loading. Here we define a batch size of 64, i.e. each element \n",
    "in the dataloader iterable will return a batch of 64 features and labels.\n",
    "\n"
   ]
  },
  {
   "cell_type": "code",
   "execution_count": 4,
   "metadata": {},
   "outputs": [
    {
     "name": "stdout",
     "output_type": "stream",
     "text": [
      "Length of train_dataloader        :  938\n",
      "Length of train_dataloader.dataset:  60000\n",
      "\n",
      "Shape of first X [N, C, H, W]:  torch.Size([64, 1, 28, 28])\n",
      "Shape of first y:  torch.Size([64]) torch.int64\n",
      "\n",
      "Shape of last X [N, C, H, W]:  torch.Size([32, 1, 28, 28])\n",
      "Shape of last y:  torch.Size([32]) torch.int64\n",
      "\n",
      "= = = = = = = = = = = = = = = = = = = = = = = = = = = = = = = = =\n",
      "Length of test_dataloader         :  157\n",
      "Length of test_dataloader.dataset :  10000\n",
      "\n",
      "Shape of first X [N, C, H, W]:  torch.Size([64, 1, 28, 28])\n",
      "Shape of first y:  torch.Size([64]) torch.int64\n",
      "\n",
      "Shape of last X [N, C, H, W]:  torch.Size([16, 1, 28, 28])\n",
      "Shape of last y:  torch.Size([16]) torch.int64\n",
      "\n"
     ]
    }
   ],
   "source": [
    "batch_size = 64\n",
    "\n",
    "# Create data loaders.\n",
    "train_dataloader = DataLoader(training_data, batch_size=batch_size)\n",
    "test_dataloader = DataLoader(test_data, batch_size=batch_size)\n",
    "\n",
    "print(\"Length of train_dataloader        : \", len(train_dataloader))\n",
    "print(\"Length of train_dataloader.dataset: \", len(train_dataloader.dataset))\n",
    "print(\"\")\n",
    "for batch, (X, y) in enumerate(train_dataloader):\n",
    "    if batch == 0:\n",
    "        print(\"Shape of first X [N, C, H, W]: \", X.shape)\n",
    "        print(\"Shape of first y: \", y.shape, y.dtype)\n",
    "        print(\"\")\n",
    "    if batch == len(train_dataloader) - 1:\n",
    "        print(\"Shape of last X [N, C, H, W]: \", X.shape)\n",
    "        print(\"Shape of last y: \", y.shape, y.dtype)\n",
    "        print(\"\")\n",
    "\n",
    "print(\"= = = = = = = = = = = = = = = = = = = = = = = = = = = = = = = = =\")\n",
    "\n",
    "print(\"Length of test_dataloader         : \", len(test_dataloader))\n",
    "print(\"Length of test_dataloader.dataset : \", len(test_dataloader.dataset))\n",
    "print(\"\")\n",
    "for batch, (X, y) in enumerate(test_dataloader):\n",
    "    if batch == 0:\n",
    "        print(\"Shape of first X [N, C, H, W]: \", X.shape)\n",
    "        print(\"Shape of first y: \", y.shape, y.dtype)\n",
    "        print(\"\")\n",
    "    if batch == len(test_dataloader) - 1:\n",
    "        print(\"Shape of last X [N, C, H, W]: \", X.shape)\n",
    "        print(\"Shape of last y: \", y.shape, y.dtype)\n",
    "        print(\"\")"
   ]
  },
  {
   "cell_type": "markdown",
   "metadata": {},
   "source": [
    "Read more about [loading data in PyTorch](https://pytorch.org/tutorials/beginner/basics/data_tutorial.html).\n",
    "\n",
    "\n"
   ]
  },
  {
   "cell_type": "markdown",
   "metadata": {},
   "source": [
    "--------------\n",
    "\n",
    "\n"
   ]
  },
  {
   "cell_type": "markdown",
   "metadata": {},
   "source": [
    "Creating Models\n",
    "------------------\n",
    "To define a neural network in PyTorch, we create a class that inherits \n",
    "from [nn.Module](https://pytorch.org/docs/stable/generated/torch.nn.Module.html). We define the layers of the network\n",
    "in the ``__init__`` function and specify how data will pass through the network in the ``forward`` function. To accelerate \n",
    "operations in the neural network, we move it to the GPU if available.\n",
    "\n"
   ]
  },
  {
   "cell_type": "code",
   "execution_count": 5,
   "metadata": {},
   "outputs": [
    {
     "name": "stdout",
     "output_type": "stream",
     "text": [
      "Using cuda device\n",
      "NeuralNetwork(\n",
      "  (flatten): Flatten(start_dim=1, end_dim=-1)\n",
      "  (linear_relu_stack): Sequential(\n",
      "    (0): Linear(in_features=784, out_features=512, bias=True)\n",
      "    (1): ReLU()\n",
      "    (2): Linear(in_features=512, out_features=512, bias=True)\n",
      "    (3): ReLU()\n",
      "    (4): Linear(in_features=512, out_features=10, bias=True)\n",
      "    (5): ReLU()\n",
      "  )\n",
      ")\n"
     ]
    }
   ],
   "source": [
    "# Get cpu or gpu device for training.\n",
    "device = \"cuda\" if torch.cuda.is_available() else \"cpu\"\n",
    "print(\"Using {} device\".format(device))\n",
    "\n",
    "# Define model\n",
    "class NeuralNetwork(nn.Module):\n",
    "    def __init__(self):\n",
    "        super(NeuralNetwork, self).__init__()\n",
    "        self.flatten = nn.Flatten()\n",
    "        self.linear_relu_stack = nn.Sequential(\n",
    "            nn.Linear(28*28, 512),\n",
    "            nn.ReLU(),\n",
    "            nn.Linear(512, 512),\n",
    "            nn.ReLU(),\n",
    "            nn.Linear(512, 10),\n",
    "            nn.ReLU()\n",
    "        )\n",
    "\n",
    "    def forward(self, x):\n",
    "        x = self.flatten(x)\n",
    "        logits = self.linear_relu_stack(x)\n",
    "        return logits\n",
    "\n",
    "model = NeuralNetwork().to(device)\n",
    "print(model)"
   ]
  },
  {
   "cell_type": "markdown",
   "metadata": {},
   "source": [
    "Read more about [building neural networks in PyTorch](https://pytorch.org/tutorials/beginner/basics/buildmodel_tutorial.html).\n",
    "\n",
    "\n"
   ]
  },
  {
   "cell_type": "markdown",
   "metadata": {},
   "source": [
    "--------------\n",
    "\n",
    "\n"
   ]
  },
  {
   "cell_type": "markdown",
   "metadata": {},
   "source": [
    "Optimizing the Model Parameters\n",
    "----------------------------------------\n",
    "To train a model, we need a [loss function](https://pytorch.org/docs/stable/nn.html#loss-functions)\n",
    "and an [optimizer](https://pytorch.org/docs/stable/optim.html). \n",
    "\n"
   ]
  },
  {
   "cell_type": "code",
   "execution_count": 6,
   "metadata": {},
   "outputs": [],
   "source": [
    "loss_fn = nn.CrossEntropyLoss()\n",
    "optimizer = torch.optim.SGD(model.parameters(), lr=1e-3)"
   ]
  },
  {
   "cell_type": "markdown",
   "metadata": {},
   "source": [
    "In a single training loop, the model makes predictions on the training dataset (fed to it in batches), and \n",
    "backpropagates the prediction error to adjust the model's parameters. \n",
    "\n"
   ]
  },
  {
   "cell_type": "code",
   "execution_count": 7,
   "metadata": {},
   "outputs": [],
   "source": [
    "def train(dataloader, model, loss_fn, optimizer):\n",
    "    size = len(dataloader.dataset)\n",
    "    for batch, (X, y) in enumerate(dataloader):\n",
    "        X, y = X.to(device), y.to(device)\n",
    "\n",
    "        # Compute prediction error\n",
    "        pred = model(X)\n",
    "        loss = loss_fn(pred, y)\n",
    "        \n",
    "        # Backpropagation\n",
    "        optimizer.zero_grad()\n",
    "        loss.backward()\n",
    "        optimizer.step()\n",
    "\n",
    "        if batch % 100 == 0:\n",
    "            loss, current = loss.item(), batch * len(X)\n",
    "            print(f\"loss: {loss:>7f}  [{current:>5d}/{size:>5d}]\")"
   ]
  },
  {
   "cell_type": "markdown",
   "metadata": {},
   "source": [
    "We also check the model's performance against the test dataset to ensure it is learning.\n",
    "\n"
   ]
  },
  {
   "cell_type": "code",
   "execution_count": 8,
   "metadata": {},
   "outputs": [],
   "source": [
    "def test(dataloader, model):\n",
    "    size = len(dataloader.dataset)\n",
    "    model.eval()\n",
    "    test_loss, correct = 0, 0\n",
    "    with torch.no_grad():\n",
    "        for X, y in dataloader:\n",
    "            X, y = X.to(device), y.to(device)\n",
    "            pred = model(X)\n",
    "            batch_size = X.shape[0]\n",
    "            # Why does official documentation not multiply batch_size?\n",
    "            test_loss += loss_fn(pred, y).item() * batch_size\n",
    "            correct += (pred.argmax(1) == y).type(torch.float).sum().item()\n",
    "    test_loss /= size\n",
    "    correct /= size\n",
    "    print(f\"Test Error: \\n Accuracy: {(100*correct):>0.1f}%, Avg loss: {test_loss:>8f} \\n\")"
   ]
  },
  {
   "cell_type": "markdown",
   "metadata": {},
   "source": [
    "The training process is conducted over several iterations (*epochs*). During each epoch, the model learns \n",
    "parameters to make better predictions. We print the model's accuracy and loss at each epoch; we'd like to see the\n",
    "accuracy increase and the loss decrease with every epoch.\n",
    "\n"
   ]
  },
  {
   "cell_type": "code",
   "execution_count": 9,
   "metadata": {},
   "outputs": [
    {
     "name": "stdout",
     "output_type": "stream",
     "text": [
      "Epoch 1\n",
      "-------------------------------\n",
      "loss: 2.310168  [    0/60000]\n",
      "loss: 2.299865  [ 6400/60000]\n",
      "loss: 2.292969  [12800/60000]\n",
      "loss: 2.283962  [19200/60000]\n",
      "loss: 2.275664  [25600/60000]\n",
      "loss: 2.284712  [32000/60000]\n",
      "loss: 2.276313  [38400/60000]\n",
      "loss: 2.270878  [44800/60000]\n",
      "loss: 2.284147  [51200/60000]\n",
      "loss: 2.259291  [57600/60000]\n",
      "Test Error: \n",
      " Accuracy: 29.4%, Avg loss: 2.254207 \n",
      "\n",
      "Epoch 2\n",
      "-------------------------------\n",
      "loss: 2.279468  [    0/60000]\n",
      "loss: 2.255437  [ 6400/60000]\n",
      "loss: 2.234116  [12800/60000]\n",
      "loss: 2.215303  [19200/60000]\n",
      "loss: 2.193687  [25600/60000]\n",
      "loss: 2.217208  [32000/60000]\n",
      "loss: 2.201185  [38400/60000]\n",
      "loss: 2.196049  [44800/60000]\n",
      "loss: 2.224796  [51200/60000]\n",
      "loss: 2.127778  [57600/60000]\n",
      "Test Error: \n",
      " Accuracy: 42.1%, Avg loss: 2.154845 \n",
      "\n",
      "Epoch 3\n",
      "-------------------------------\n",
      "loss: 2.224870  [    0/60000]\n",
      "loss: 2.175960  [ 6400/60000]\n",
      "loss: 2.130129  [12800/60000]\n",
      "loss: 2.089783  [19200/60000]\n",
      "loss: 2.053715  [25600/60000]\n",
      "loss: 2.100030  [32000/60000]\n",
      "loss: 2.072943  [38400/60000]\n",
      "loss: 2.073638  [44800/60000]\n",
      "loss: 2.137619  [51200/60000]\n",
      "loss: 1.931147  [57600/60000]\n",
      "Test Error: \n",
      " Accuracy: 43.5%, Avg loss: 2.006445 \n",
      "\n",
      "Epoch 4\n",
      "-------------------------------\n",
      "loss: 2.148192  [    0/60000]\n",
      "loss: 2.057001  [ 6400/60000]\n",
      "loss: 1.985681  [12800/60000]\n",
      "loss: 1.908573  [19200/60000]\n",
      "loss: 1.873213  [25600/60000]\n",
      "loss: 1.956920  [32000/60000]\n",
      "loss: 1.907678  [38400/60000]\n",
      "loss: 1.934860  [44800/60000]\n",
      "loss: 2.040763  [51200/60000]\n",
      "loss: 1.707898  [57600/60000]\n",
      "Test Error: \n",
      " Accuracy: 45.5%, Avg loss: 1.850171 \n",
      "\n",
      "Epoch 5\n",
      "-------------------------------\n",
      "loss: 2.072035  [    0/60000]\n",
      "loss: 1.941077  [ 6400/60000]\n",
      "loss: 1.857218  [12800/60000]\n",
      "loss: 1.733307  [19200/60000]\n",
      "loss: 1.730904  [25600/60000]\n",
      "loss: 1.846825  [32000/60000]\n",
      "loss: 1.759702  [38400/60000]\n",
      "loss: 1.827741  [44800/60000]\n",
      "loss: 1.960734  [51200/60000]\n",
      "loss: 1.539195  [57600/60000]\n",
      "Test Error: \n",
      " Accuracy: 46.4%, Avg loss: 1.732446 \n",
      "\n",
      "Done!\n"
     ]
    }
   ],
   "source": [
    "epochs = 5\n",
    "for t in range(epochs):\n",
    "    print(f\"Epoch {t+1}\\n-------------------------------\")\n",
    "    train(train_dataloader, model, loss_fn, optimizer)\n",
    "    test(test_dataloader, model)\n",
    "print(\"Done!\")"
   ]
  },
  {
   "cell_type": "markdown",
   "metadata": {},
   "source": [
    "Read more about `Training your model <optimization_tutorial.html>`_.\n",
    "\n",
    "\n"
   ]
  },
  {
   "cell_type": "markdown",
   "metadata": {},
   "source": [
    "--------------\n",
    "\n",
    "\n"
   ]
  },
  {
   "cell_type": "markdown",
   "metadata": {},
   "source": [
    "Saving Models\n",
    "-------------\n",
    "A common way to save a model is to serialize the internal state dictionary (containing the model parameters).\n",
    "\n"
   ]
  },
  {
   "cell_type": "code",
   "execution_count": 10,
   "metadata": {},
   "outputs": [
    {
     "name": "stdout",
     "output_type": "stream",
     "text": [
      "Saved PyTorch Model State to model.pth\n"
     ]
    }
   ],
   "source": [
    "torch.save(model.state_dict(), \"model.pth\")\n",
    "print(\"Saved PyTorch Model State to model.pth\")"
   ]
  },
  {
   "cell_type": "markdown",
   "metadata": {},
   "source": [
    "Loading Models\n",
    "----------------------------\n",
    "\n",
    "The process for loading a model includes re-creating the model structure and loading\n",
    "the state dictionary into it. \n",
    "\n"
   ]
  },
  {
   "cell_type": "code",
   "execution_count": 11,
   "metadata": {},
   "outputs": [
    {
     "data": {
      "text/plain": [
       "<All keys matched successfully>"
      ]
     },
     "execution_count": 11,
     "metadata": {},
     "output_type": "execute_result"
    }
   ],
   "source": [
    "model = NeuralNetwork()\n",
    "model.load_state_dict(torch.load(\"model.pth\"))"
   ]
  },
  {
   "cell_type": "markdown",
   "metadata": {},
   "source": [
    "This model can now be used to make predictions.\n",
    "\n"
   ]
  },
  {
   "cell_type": "code",
   "execution_count": 12,
   "metadata": {},
   "outputs": [
    {
     "name": "stdout",
     "output_type": "stream",
     "text": [
      "Predicted: \"Ankle boot\", Actual: \"Ankle boot\"\n"
     ]
    }
   ],
   "source": [
    "classes = [\n",
    "    \"T-shirt/top\",\n",
    "    \"Trouser\",\n",
    "    \"Pullover\",\n",
    "    \"Dress\",\n",
    "    \"Coat\",\n",
    "    \"Sandal\",\n",
    "    \"Shirt\",\n",
    "    \"Sneaker\",\n",
    "    \"Bag\",\n",
    "    \"Ankle boot\",\n",
    "]\n",
    "\n",
    "model.eval()\n",
    "x, y = test_data[0][0], test_data[0][1]\n",
    "with torch.no_grad():\n",
    "    pred = model(x)\n",
    "    predicted, actual = classes[pred[0].argmax(0)], classes[y]\n",
    "    print(f'Predicted: \"{predicted}\", Actual: \"{actual}\"')"
   ]
  },
  {
   "cell_type": "markdown",
   "metadata": {},
   "source": [
    "Read more about [Saving & Loading your model](https://pytorch.org/tutorials/beginner/basics/saveloadrun_tutorial.html).\n",
    "\n",
    "\n"
   ]
  },
  {
   "cell_type": "code",
   "execution_count": null,
   "metadata": {},
   "outputs": [],
   "source": []
  }
 ],
 "metadata": {
  "kernelspec": {
   "display_name": "Python 3",
   "language": "python",
   "name": "python3"
  },
  "language_info": {
   "codemirror_mode": {
    "name": "ipython",
    "version": 3
   },
   "file_extension": ".py",
   "mimetype": "text/x-python",
   "name": "python",
   "nbconvert_exporter": "python",
   "pygments_lexer": "ipython3",
   "version": "3.6.9"
  }
 },
 "nbformat": 4,
 "nbformat_minor": 1
}
